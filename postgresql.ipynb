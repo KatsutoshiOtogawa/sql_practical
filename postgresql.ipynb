{
    "metadata": {
        "kernelspec": {
            "name": "SQL",
            "display_name": "SQL",
            "language": "sql"
        },
        "language_info": {
            "name": "sql",
            "version": ""
        }
    },
    "nbformat_minor": 2,
    "nbformat": 4,
    "cells": [
        {
            "cell_type": "markdown",
            "source": [
                "Create User in postgresql.\n",
                "\n",
                "In advance, you set environment variable,<span style=\"color: rgb(163, 21, 21); font-family: Menlo, Monaco, &quot;Courier New&quot;, monospace; font-size: 12px; white-space: pre;\">POSTGRES_TEST_PASSWORD,</span><span style=\"color: rgb(163, 21, 21); font-family: Menlo, Monaco, &quot;Courier New&quot;, monospace; font-size: 12px; white-space: pre;\">POSTGRES_DEVELOPMENT_PASSWORD,</span><span style=\"color: rgb(163, 21, 21); font-family: Menlo, Monaco, &quot;Courier New&quot;, monospace; font-size: 12px; white-space: pre;\">POSTGRES_PRODUCTION_PASSWORD.</span>"
            ],
            "metadata": {
                "azdata_cell_guid": "39c50cb7-83dd-493b-be36-a332b1c4e3b1"
            }
        },
        {
            "cell_type": "markdown",
            "source": [
                "Using Password is needed to be secure, and you use encript program."
            ],
            "metadata": {
                "azdata_cell_guid": "6fcd61bc-6ee0-42ff-a1f9-847593f68a1d"
            }
        },
        {
            "cell_type": "code",
            "source": [
                "# generating secure password.\n",
                "# if you use linux ,macOS or wsl, execute below command in bash.\n",
                "mkpasswd -l 16\n",
                "# if you want to more secure or follow os security policy, you use pwmake.\n",
                "\n",
                "# you use Windows os, execute these below commands in powershell\n",
                "## you include library.\n",
                "Add-type -AssemblyName System.Web\n",
                "## you generate secure password.\n",
                "[System.Web.Security.Membership]::GeneratePassword(16,5)"
            ],
            "metadata": {
                "azdata_cell_guid": "46ab1f56-65a7-43fd-9413-16873ea0ba44"
            },
            "outputs": [],
            "execution_count": null
        },
        {
            "cell_type": "markdown",
            "source": [
                "Set Generate password to environment variable,<span style=\"color: rgb(163, 21, 21); font-family: Menlo, Monaco, &quot;Courier New&quot;, monospace; font-size: 12px; white-space: pre;\">POSTGRES_TEST_PASSWORD,</span><span style=\"color: rgb(163, 21, 21); font-family: Menlo, Monaco, &quot;Courier New&quot;, monospace; font-size: 12px; white-space: pre;\">POSTGRES_DEVELOPMENT_PASSWORD and </span><span style=\"color: rgb(163, 21, 21); font-family: Menlo, Monaco, &quot;Courier New&quot;, monospace; font-size: 12px; white-space: pre;\">POSTGRES_PRODUCTION_PASSWORD.</span>"
            ],
            "metadata": {
                "azdata_cell_guid": "442a768e-acec-46eb-99b0-baaa714a5792"
            }
        },
        {
            "cell_type": "code",
            "source": [
                "# if you use linux ,macOS or wsl, execute below command in bash.\n",
                "echo '# postgresql database environment.' >> ~/.bash_profile\n",
                "echo 'export POSTGRES_TEST_PASSWORD=\"you generate POSTGRES_TEST_PASSWORD\"' >> ~/.bash_profile\n",
                "echo 'export POSTGRES_DEVELOPMENT_PASSWORD=\"you generate POSTGRES_DEVELOPMENT_PASSWORD\"' >> ~/.bash_profile\n",
                "echo 'export POSTGRES_PRODUCTION_PASSWORD=\"you generate POSTGRES_PRODUCTION_PASSWORD\"' >> ~/.bash_profile\n",
                "\n",
                "# you use Windows os, execute these below commands in powershell.\n",
                "echo '# postgresql database environment.' >> %UserProfile%\\Documents\\WindowsPowerShell\\Microsoft.PowerShell_profile.ps1\n",
                "echo 'Set-Item Env:POSTGRES_TEST_PASSWORD -Value \"you generate POSTGRES_TEST_PASSWORD\"' >> %UserProfile%\\Documents\\WindowsPowerShell\\Microsoft.PowerShell_profile.ps1\n",
                "echo 'Set-Item Env:POSTGRES_DEVELOPMENT_PASSWORD -Value \"you generate POSTGRES_DEVELOPMENT_PASSWORD\"' >> %UserProfile%\\Documents\\WindowsPowerShell\\Microsoft.PowerShell_profile.ps1\n",
                "echo 'Set-Item Env:POSTGRES_PRODUCTION_PASSWORD -Value \"you generate POSTGRES_PRODUCTION_PASSWORD\"' >> %UserProfile%\\Documents\\WindowsPowerShell\\Microsoft.PowerShell_profile.ps1"
            ],
            "metadata": {
                "azdata_cell_guid": "f3a1d8fe-7bf8-4e12-b7c6-0eedd950e651"
            },
            "outputs": [],
            "execution_count": null
        },
        {
            "cell_type": "markdown",
            "source": [
                "Reopen shell and, Editor or IDE.\n",
                "\n",
                "you execute below command to create postgresql user."
            ],
            "metadata": {
                "azdata_cell_guid": "4c73f0d2-a044-4b5c-a314-9ecf68c4d427"
            }
        },
        {
            "cell_type": "code",
            "source": [
                "CREATE USER APP_TEST WITH PASSWORD \\'${POSTGRES_TEST_PASSWORD}\\';\n",
                "CREATE USER APP_DEVELOPMENT WITH PASSWORD \\'${POSTGRES_DEVELOPMENT_PASSWORD}\\';\n",
                "CREATE USER APP_PRODUCTION WITH PASSWORD \\'${POSTGRES_PRODUCTION_PASSWORD}\\';"
            ],
            "metadata": {
                "azdata_cell_guid": "a79f2dd6-bd01-45da-a8a9-9d00a82bd4ec",
                "tags": []
            },
            "outputs": [],
            "execution_count": null
        },
        {
            "cell_type": "markdown",
            "source": [
                "Create Database Catalog.\n",
                "\n",
                "<br>"
            ],
            "metadata": {
                "azdata_cell_guid": "71c9772e-93cd-45c5-acfc-3e9307723f9c"
            }
        },
        {
            "cell_type": "code",
            "source": [
                "CREATE DATABASE APP_TEST OWNER APP_TEST;\n",
                "CREATE DATABASE APP_DEVELOPMENT OWNER APP_DEVELOPMENT;\n",
                "CREATE DATABASE APP_PRODUCTION OWNER APP_PRODUCTION;"
            ],
            "metadata": {
                "azdata_cell_guid": "f59226d1-a0ee-410e-b193-46168b3fcc3a"
            },
            "outputs": [],
            "execution_count": null
        },
        {
            "cell_type": "markdown",
            "source": [
                "Basically, Database Catalog can be used by only that Owner.\n",
                "\n",
                "This rule is using almost Database System.\n",
                "\n",
                "If you aren't Database Catalog Owner, and when you want to use,how can you use ?\n",
                "\n",
                "You Create Role, and Role is added permission, and you join user to created Role.\n",
                "\n",
                "(Role usually doesnt hava login permission.)"
            ],
            "metadata": {
                "azdata_cell_guid": "1991c1a4-9975-416b-9972-28e6402cb612"
            }
        },
        {
            "cell_type": "code",
            "source": [
                "-- create role and add properly permission.\n",
                "CREATE ROLE db_admin;\n",
                "\n",
                "GRANT ALL ON DATABASE APP_TEST TO db_admin;\n",
                "GRANT ALL ON DATABASE APP_DEVELOPMENT TO db_admin;\n",
                "GRANT ALL ON DATABASE APP_PRODUCTION TO db_admin;\n",
                ""
            ],
            "metadata": {
                "azdata_cell_guid": "86c7a1fd-1301-46cd-ae3a-c1b06da8f7aa",
                "tags": []
            },
            "outputs": [],
            "execution_count": null
        },
        {
            "cell_type": "code",
            "source": [
                "CREATE USER KatsutoshiOtogawa WITH PASSWORD \\'${YOUR_PASSWORD}\\';\n",
                "\n",
                "GRANT db_admin TO KatsutoshiOtogawa;"
            ],
            "metadata": {
                "azdata_cell_guid": "5f30e5b7-880e-48ac-92f5-755193c0d407"
            },
            "outputs": [],
            "execution_count": null
        },
        {
            "cell_type": "markdown",
            "source": [
                "db_admin is Role to database adminer user permission.\n",
                "\n",
                "accordingly, db_admin have to been given permission to create, alter,delete drop and insert Database Catalog haven general user."
            ],
            "metadata": {
                "azdata_cell_guid": "27059ab6-45b2-4442-b76d-da1a4fbba01f"
            }
        }
    ]
}