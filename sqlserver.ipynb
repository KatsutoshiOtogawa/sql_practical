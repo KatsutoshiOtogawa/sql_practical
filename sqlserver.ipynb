{
    "metadata": {
        "kernelspec": {
            "name": "powershell",
            "display_name": "PowerShell",
            "language": "powershell"
        },
        "language_info": {
            "name": "powershell",
            "codemirror_mode": "shell",
            "mimetype": "text/x-sh",
            "file_extension": ".ps1"
        }
    },
    "nbformat_minor": 2,
    "nbformat": 4,
    "cells": [
        {
            "cell_type": "markdown",
            "source": [
                "Azure Data studio can use MSSSQL and Postgresql.\n",
                "\n",
                "jupter Note books.\n",
                "\n",
                "Reference: [SQLServer Samples](https://github.com/Microsoft/sql-server-samples/releases/tag/adventureworks)"
            ],
            "metadata": {
                "azdata_cell_guid": "2e80c989-c8d6-40ea-92a2-c39fa4098663"
            }
        },
        {
            "cell_type": "code",
            "source": [
                "SELECT SCHEMA_NAME(schema_id) AS schema_name  \n",
                "    ,name AS table_name   \n",
                "FROM sys.tables\n",
                "WHERE OBJECTPROPERTY(object_id,'TableHasPrimaryKey') = 0  \n",
                "ORDER BY schema_name, table_name;  \n",
                "GO"
            ],
            "metadata": {
                "azdata_cell_guid": "36babe14-3d98-4b75-b390-d70f43316201",
                "tags": []
            },
            "outputs": [
                {
                    "traceback": [
                        "\u001b[0;36m  File \u001b[0;32m\"<ipython-input-1-3df04a7a7abf>\"\u001b[0;36m, line \u001b[0;32m1\u001b[0m\n\u001b[0;31m    SELECT SCHEMA_NAME(schema_id) AS schema_name\u001b[0m\n\u001b[0m                     ^\u001b[0m\n\u001b[0;31mSyntaxError\u001b[0m\u001b[0;31m:\u001b[0m invalid syntax\n"
                    ],
                    "ename": "SyntaxError",
                    "evalue": "invalid syntax (<ipython-input-1-3df04a7a7abf>, line 1)",
                    "output_type": "error"
                }
            ],
            "execution_count": 1
        },
        {
            "cell_type": "markdown",
            "source": [
                "Execute Below DTL, create a new user.\n",
                "\n",
                "Reference: [Mircrosoft Create a database user Page](<a href=\"https://docs.microsoft.com/ja-jp/sql/relational-databases/security/authentication-access/create-a-database-user?view=sql-server-ver15\" data-href=\"https://docs.microsoft.com/ja-jp/sql/relational-databases/security/authentication-access/create-a-database-user?view=sql-server-ver15\" title=\"https://docs.microsoft.com/ja-jp/sql/relational-databases/security/authentication-access/create-a-database-user?view=sql-server-ver15\">https://docs.microsoft.com/ja-jp/sql/relational-databases/security/authentication-access/create-a-database-user?view=sql-server-ver15</a>)"
            ],
            "metadata": {
                "azdata_cell_guid": "bc90cd99-df6d-4b71-8537-61b36233fd93"
            }
        },
        {
            "cell_type": "code",
            "source": [
                "-- Creates the login AbolrousHazem with password '340$Uuxwp7Mcxo7Khy'.  \n",
                "CREATE LOGIN AbolrousHazem   \n",
                "    WITH PASSWORD = '340$Uuxwp7Mcxo7Khy';  \n",
                "GO  \n",
                "\n",
                "-- Creates a database user for the login created above.  \n",
                "CREATE USER AbolrousHazem FOR LOGIN AbolrousHazem;  \n",
                "GO"
            ],
            "metadata": {
                "azdata_cell_guid": "6ca86b1f-4423-46b5-aa02-d610ad9ef16f"
            },
            "outputs": [
                {
                    "output_type": "error",
                    "ename": "",
                    "evalue": "Msg 15025, Level 16, State 1, Line 2\nThe server principal 'AbolrousHazem' already exists.",
                    "traceback": []
                },
                {
                    "output_type": "error",
                    "ename": "",
                    "evalue": "Msg 15247, Level 16, State 1, Line 7\nUser does not have permission to perform this action.",
                    "traceback": []
                },
                {
                    "output_type": "display_data",
                    "data": {
                        "text/html": "Total execution time: 00:00:00.073"
                    },
                    "metadata": {}
                }
            ],
            "execution_count": 4
        },
        {
            "cell_type": "markdown",
            "source": [
                "You assign Role to user you created just now.\n",
                "\n",
                "Role is managing permission.\n",
                "\n",
                "Let's create New Role!\n",
                "\n",
                "Refererence:[Microsoft Create a Role(T-SQL)](https://docs.microsoft.com/ja-jp/sql/t-sql/statements/create-role-transact-sql?view=sql-server-ver15),[Microsoft Create a Role(GUI)](https://docs.microsoft.com/ja-jp/sql/reporting-services/security/role-definitions-create-delete-or-modify?view=sql-server-ver15),<a href=\"https://docs.microsoft.com/ja-jp/sql/relational-databases/security/authentication-access/join-a-role?view=sql-server-ver15\" data-href=\"https://docs.microsoft.com/ja-jp/sql/relational-databases/security/authentication-access/join-a-role?view=sql-server-ver15\" title=\"https://docs.microsoft.com/ja-jp/sql/relational-databases/security/authentication-access/join-a-role?view=sql-server-ver15\">Microsoft Join a Role</a>"
            ],
            "metadata": {
                "azdata_cell_guid": "c664d937-22c9-46f1-8044-c328bd1fadb3"
            }
        },
        {
            "cell_type": "code",
            "source": [
                "CREATE ROLE AbolrousHazem;  \n",
                "GO\n",
                "\n",
                "-- ALTER ROLE Marketing ADD MEMBER [Domain\\Juan] ;  \n",
                "-- GO"
            ],
            "metadata": {
                "azdata_cell_guid": "a22885c4-4888-467b-a393-2df140e284e8"
            },
            "outputs": [],
            "execution_count": null
        },
        {
            "cell_type": "markdown",
            "source": [
                "Create Table MSSQL.<span style=\"font-family: -apple-system, BlinkMacSystemFont, sans-serif;\"></span>"
            ],
            "metadata": {
                "azdata_cell_guid": "3f577f8c-d640-4405-afd1-5e3543858a1e"
            }
        },
        {
            "cell_type": "code",
            "source": [
                "CREATE TABLE Employee (\n",
                "    StudentGPAID    INT NOT NULL IDENTITY(1,1) PRIMARY KEY,\n",
                "    StudentID       INT NOT NULL REFERENCES Student (StudentID),\n",
                "    GradeYear       TINYINT NOT NULL,\n",
                "    Semester        NVARCHAR(20) NOT NULL,\n",
                "    GradeScore      DECIMAL(5,2) NULL,\n",
                "    GPA             CHAR(1) NULL,\n",
                "    CompletedFlag   BIT NOT NULL DEFAULT (0)\n",
                ");"
            ],
            "metadata": {
                "azdata_cell_guid": "9879fa48-621b-4a4b-b131-95b653c1fd7c"
            },
            "outputs": [],
            "execution_count": null
        },
        {
            "cell_type": "code",
            "source": [
                "Get-Content"
            ],
            "metadata": {
                "azdata_cell_guid": "da46bf8e-5dc9-4e44-a418-d6510c1ca941"
            },
            "outputs": [
                {
                    "ename": "FileNotFoundError",
                    "evalue": "[Errno 2] No such file or directory: 'pwsh': 'pwsh'",
                    "traceback": [
                        "Traceback (most recent call last):\n  File \"/Users/katsutoshi/.local/lib/python3.6/site-packages/powershell_kernel/kernel.py\", line 62, in do_execute\n    self.__createProxy()\n  File \"/Users/katsutoshi/.local/lib/python3.6/site-packages/powershell_kernel/kernel.py\", line 51, in __createProxy\n    repl = subprocess_repl.SubprocessRepl([powershell_command, '-noninteractive', '-noprofile', '-File', '-'])\n  File \"/Users/katsutoshi/.local/lib/python3.6/site-packages/powershell_kernel/subprocess_repl.py\", line 29, in __init__\n    stderr=subprocess.STDOUT, stdin=subprocess.PIPE, stdout=subprocess.PIPE)\n  File \"/Users/katsutoshi/azuredatastudio-python/0.0.1/lib/python3.6/subprocess.py\", line 709, in __init__\n    restore_signals, start_new_session)\n  File \"/Users/katsutoshi/azuredatastudio-python/0.0.1/lib/python3.6/subprocess.py\", line 1344, in _execute_child\n    raise child_exception_type(errno_num, err_msg, err_filename)\nFileNotFoundError: [Errno 2] No such file or directory: 'pwsh': 'pwsh'\n"
                    ],
                    "output_type": "error"
                }
            ],
            "execution_count": null
        },
        {
            "cell_type": "code",
            "source": [
                "!pip install pymssql"
            ],
            "metadata": {
                "azdata_cell_guid": "c162be39-5e17-41ff-bd33-8840c42fe8db"
            },
            "outputs": [
                {
                    "name": "stdout",
                    "text": "Requirement already satisfied: pymssql in /Users/katsutoshi/azuredatastudio-python/0.0.1/lib/python3.6/site-packages (2.1.5)\r\n",
                    "output_type": "stream"
                },
                {
                    "name": "stdout",
                    "text": "\u001b[33mWARNING: You are using pip version 20.0.2; however, version 20.2.4 is available.\r\nYou should consider upgrading via the '/Users/katsutoshi/azuredatastudio-python/0.0.1/bin/python3.6 -m pip install --upgrade pip' command.\u001b[0m\r\n",
                    "output_type": "stream"
                }
            ],
            "execution_count": 5
        }
    ]
}