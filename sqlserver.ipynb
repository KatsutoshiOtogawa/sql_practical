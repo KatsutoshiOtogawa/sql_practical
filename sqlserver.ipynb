{
    "metadata": {
        "kernelspec": {
            "name": "SQL",
            "display_name": "SQL",
            "language": "sql"
        },
        "language_info": {
            "name": "sql",
            "version": ""
        }
    },
    "nbformat_minor": 2,
    "nbformat": 4,
    "cells": [
        {
            "cell_type": "markdown",
            "source": [
                "Azure Data studio can use MSSSQL and Postgresql.\n",
                "\n",
                "jupter Note books.\n",
                "\n",
                "Reference: [SQLServer Samples](https://github.com/Microsoft/sql-server-samples/releases/tag/adventureworks)"
            ],
            "metadata": {
                "azdata_cell_guid": "2e80c989-c8d6-40ea-92a2-c39fa4098663"
            }
        },
        {
            "cell_type": "code",
            "source": [
                "SELECT SCHEMA_NAME(schema_id) AS schema_name  \n",
                "    ,name AS table_name   \n",
                "FROM sys.tables\n",
                "WHERE OBJECTPROPERTY(object_id,'TableHasPrimaryKey') = 0  \n",
                "ORDER BY schema_name, table_name;  \n",
                "GO"
            ],
            "metadata": {
                "azdata_cell_guid": "36babe14-3d98-4b75-b390-d70f43316201",
                "tags": []
            },
            "outputs": [
                {
                    "output_type": "display_data",
                    "data": {
                        "text/html": "(5 rows affected)"
                    },
                    "metadata": {}
                },
                {
                    "output_type": "display_data",
                    "data": {
                        "text/html": "Total execution time: 00:00:10.604"
                    },
                    "metadata": {}
                },
                {
                    "output_type": "execute_result",
                    "metadata": {
                        "resultSet": {
                            "id": 0,
                            "batchId": 0,
                            "rowCount": 5,
                            "complete": true,
                            "columnInfo": [
                                {
                                    "isBytes": false,
                                    "isChars": true,
                                    "isSqlVariant": false,
                                    "isUdt": false,
                                    "isXml": false,
                                    "isJson": false,
                                    "sqlDbType": 12,
                                    "isHierarchyId": false,
                                    "isSqlXmlType": false,
                                    "isUnknownType": false,
                                    "isUpdatable": false,
                                    "allowDBNull": true,
                                    "baseCatalogName": null,
                                    "baseColumnName": null,
                                    "baseSchemaName": null,
                                    "baseServerName": null,
                                    "baseTableName": null,
                                    "columnName": "schema_name",
                                    "columnOrdinal": 0,
                                    "columnSize": 128,
                                    "isAliased": null,
                                    "isAutoIncrement": false,
                                    "isExpression": null,
                                    "isHidden": null,
                                    "isIdentity": false,
                                    "isKey": null,
                                    "isLong": false,
                                    "isReadOnly": true,
                                    "isUnique": false,
                                    "numericPrecision": 255,
                                    "numericScale": 255,
                                    "udtAssemblyQualifiedName": null,
                                    "dataType": "System.String, System.Private.CoreLib, Version=4.0.0.0, Culture=neutral, PublicKeyToken=7cec85d7bea7798e",
                                    "dataTypeName": "nvarchar"
                                },
                                {
                                    "isBytes": false,
                                    "isChars": true,
                                    "isSqlVariant": false,
                                    "isUdt": false,
                                    "isXml": false,
                                    "isJson": false,
                                    "sqlDbType": 12,
                                    "isHierarchyId": false,
                                    "isSqlXmlType": false,
                                    "isUnknownType": false,
                                    "isUpdatable": true,
                                    "allowDBNull": false,
                                    "baseCatalogName": null,
                                    "baseColumnName": null,
                                    "baseSchemaName": null,
                                    "baseServerName": null,
                                    "baseTableName": null,
                                    "columnName": "table_name",
                                    "columnOrdinal": 1,
                                    "columnSize": 128,
                                    "isAliased": null,
                                    "isAutoIncrement": false,
                                    "isExpression": null,
                                    "isHidden": null,
                                    "isIdentity": false,
                                    "isKey": null,
                                    "isLong": false,
                                    "isReadOnly": false,
                                    "isUnique": false,
                                    "numericPrecision": 255,
                                    "numericScale": 255,
                                    "udtAssemblyQualifiedName": null,
                                    "dataType": "System.String, System.Private.CoreLib, Version=4.0.0.0, Culture=neutral, PublicKeyToken=7cec85d7bea7798e",
                                    "dataTypeName": "nvarchar"
                                }
                            ],
                            "specialAction": {
                                "none": true,
                                "expectYukonXMLShowPlan": false
                            }
                        }
                    },
                    "execution_count": 1,
                    "data": {
                        "application/vnd.dataresource+json": {
                            "schema": {
                                "fields": [
                                    {
                                        "name": "schema_name"
                                    },
                                    {
                                        "name": "table_name"
                                    }
                                ]
                            },
                            "data": [
                                {
                                    "0": "dbo",
                                    "1": "MSreplication_options"
                                },
                                {
                                    "0": "dbo",
                                    "1": "spt_fallback_db"
                                },
                                {
                                    "0": "dbo",
                                    "1": "spt_fallback_dev"
                                },
                                {
                                    "0": "dbo",
                                    "1": "spt_fallback_usg"
                                },
                                {
                                    "0": "dbo",
                                    "1": "spt_monitor"
                                }
                            ]
                        },
                        "text/html": [
                            "<table>",
                            "<tr><th>schema_name</th><th>table_name</th></tr>",
                            "<tr><td>dbo</td><td>MSreplication_options</td></tr>",
                            "<tr><td>dbo</td><td>spt_fallback_db</td></tr>",
                            "<tr><td>dbo</td><td>spt_fallback_dev</td></tr>",
                            "<tr><td>dbo</td><td>spt_fallback_usg</td></tr>",
                            "<tr><td>dbo</td><td>spt_monitor</td></tr>",
                            "</table>"
                        ]
                    }
                }
            ],
            "execution_count": 1
        },
        {
            "cell_type": "markdown",
            "source": [
                "Execute Below DTL, create a new user.\n",
                "\n",
                "Reference: [Mircrosoft Create a database user Page](<a href=\"https://docs.microsoft.com/ja-jp/sql/relational-databases/security/authentication-access/create-a-database-user?view=sql-server-ver15\" data-href=\"https://docs.microsoft.com/ja-jp/sql/relational-databases/security/authentication-access/create-a-database-user?view=sql-server-ver15\" title=\"https://docs.microsoft.com/ja-jp/sql/relational-databases/security/authentication-access/create-a-database-user?view=sql-server-ver15\">https://docs.microsoft.com/ja-jp/sql/relational-databases/security/authentication-access/create-a-database-user?view=sql-server-ver15</a>)"
            ],
            "metadata": {
                "azdata_cell_guid": "bc90cd99-df6d-4b71-8537-61b36233fd93"
            }
        },
        {
            "cell_type": "markdown",
            "source": [
                "<span style=\"font-family: -apple-system, BlinkMacSystemFont, sans-serif;\">Create User in mssqlserver.</span>\n",
                "\n",
                "In advance, you set environment variable,<span style=\"color: rgb(33, 33, 33); font-family: Menlo, Monaco, &quot;Courier New&quot;, monospace; font-size: 12px; white-space: pre;\">AbolrousHazem_PASSWORD</span><span style=\"color: rgb(163, 21, 21); font-family: Menlo, Monaco, &quot;Courier New&quot;, monospace; font-size: 12px; white-space: pre;\">.</span>"
            ],
            "metadata": {
                "azdata_cell_guid": "eb4a75cd-d7de-41dd-9cfb-c30dab03dc92"
            }
        },
        {
            "cell_type": "code",
            "source": [
                "-- Creates the login AbolrousHazem with password '340$Uuxwp7Mcxo7Khy'.  \n",
                "CREATE LOGIN AbolrousHazem   \n",
                "    WITH PASSWORD = $(ABOLROUSHAZEM_PASSWORD);  \n",
                "GO\n",
                "\n",
                "-- Creates a database user for the login created above.  \n",
                "CREATE USER AbolrousHazem FOR LOGIN AbolrousHazem;  \n",
                "GO"
            ],
            "metadata": {
                "azdata_cell_guid": "6ca86b1f-4423-46b5-aa02-d610ad9ef16f"
            },
            "outputs": [
                {
                    "output_type": "display_data",
                    "data": {
                        "text/html": "Commands completed successfully."
                    },
                    "metadata": {}
                },
                {
                    "output_type": "error",
                    "evalue": "Msg 15247, Level 16, State 1, Line 7\nUser does not have permission to perform this action.",
                    "ename": "",
                    "traceback": []
                },
                {
                    "output_type": "display_data",
                    "data": {
                        "text/html": "Total execution time: 00:00:00.158"
                    },
                    "metadata": {}
                }
            ],
            "execution_count": 2
        },
        {
            "cell_type": "code",
            "source": [
                "DROP LOGIN AbolrousHazem;"
            ],
            "metadata": {
                "azdata_cell_guid": "ea6d776b-0f7e-42ba-9b79-bac8bd4eee51"
            },
            "outputs": [
                {
                    "output_type": "error",
                    "ename": "",
                    "evalue": "Query failed: The connection does not support MultipleActiveResultSets.",
                    "traceback": []
                },
                {
                    "output_type": "display_data",
                    "data": {
                        "text/html": "Total execution time: 00:00:00.001"
                    },
                    "metadata": {}
                }
            ],
            "execution_count": 9
        },
        {
            "cell_type": "markdown",
            "source": [
                "You assign Role to user you created just now.\n",
                "\n",
                "Role is managing permission.\n",
                "\n",
                "Let's create New Role!\n",
                "\n",
                "Refererence:[Microsoft Create a Role(T-SQL)](https://docs.microsoft.com/ja-jp/sql/t-sql/statements/create-role-transact-sql?view=sql-server-ver15),[Microsoft Create a Role(GUI)](https://docs.microsoft.com/ja-jp/sql/reporting-services/security/role-definitions-create-delete-or-modify?view=sql-server-ver15),<a href=\"https://docs.microsoft.com/ja-jp/sql/relational-databases/security/authentication-access/join-a-role?view=sql-server-ver15\" data-href=\"https://docs.microsoft.com/ja-jp/sql/relational-databases/security/authentication-access/join-a-role?view=sql-server-ver15\" title=\"https://docs.microsoft.com/ja-jp/sql/relational-databases/security/authentication-access/join-a-role?view=sql-server-ver15\">Microsoft Join a Role</a>"
            ],
            "metadata": {
                "azdata_cell_guid": "c664d937-22c9-46f1-8044-c328bd1fadb3"
            }
        },
        {
            "cell_type": "code",
            "source": [
                "CREATE ROLE buyer AUTHORIZATION AbolrousHazem;  \n",
                "GO\n",
                "\n",
                "-- ALTER ROLE Marketing ADD MEMBER [Domain\\Juan] ;  \n",
                "-- GO"
            ],
            "metadata": {
                "azdata_cell_guid": "a22885c4-4888-467b-a393-2df140e284e8"
            },
            "outputs": [
                {
                    "output_type": "error",
                    "ename": "",
                    "evalue": "Msg 15247, Level 16, State 1, Line 1\nUser does not have permission to perform this action.",
                    "traceback": []
                },
                {
                    "output_type": "display_data",
                    "data": {
                        "text/html": "Commands completed successfully."
                    },
                    "metadata": {}
                },
                {
                    "output_type": "display_data",
                    "data": {
                        "text/html": "Total execution time: 00:00:00.046"
                    },
                    "metadata": {}
                }
            ],
            "execution_count": 4
        },
        {
            "cell_type": "markdown",
            "source": [
                "Create Table MSSQL.<span style=\"font-family: -apple-system, BlinkMacSystemFont, sans-serif;\"></span>"
            ],
            "metadata": {
                "azdata_cell_guid": "3f577f8c-d640-4405-afd1-5e3543858a1e"
            }
        },
        {
            "cell_type": "code",
            "source": [
                "CREATE TABLE Employee (\n",
                "    StudentGPAID    INT NOT NULL IDENTITY(1,1) PRIMARY KEY,\n",
                "    StudentID       INT NOT NULL REFERENCES Student (StudentID),\n",
                "    GradeYear       TINYINT NOT NULL,\n",
                "    Semester        NVARCHAR(20) NOT NULL,\n",
                "    GradeScore      DECIMAL(5,2) NULL,\n",
                "    GPA             CHAR(1) NULL,\n",
                "    CompletedFlag   BIT NOT NULL DEFAULT (0)\n",
                ");"
            ],
            "metadata": {
                "azdata_cell_guid": "9879fa48-621b-4a4b-b131-95b653c1fd7c"
            },
            "outputs": [],
            "execution_count": null
        },
        {
            "cell_type": "markdown",
            "source": [
                "if you use Powershell,\n",
                "\n",
                "you install Module Sqlserver."
            ],
            "metadata": {
                "azdata_cell_guid": "5ffb61fa-636e-48ed-a224-e37ef93f03d1"
            }
        },
        {
            "cell_type": "code",
            "source": [
                "# execute in terminal. Install-Module is properly not working on jupter notebook.\n",
                "Install-Module -Name SqlServer"
            ],
            "metadata": {
                "azdata_cell_guid": "28f56f0e-18b9-471b-ae20-2e89985eade0"
            },
            "outputs": [],
            "execution_count": null
        },
        {
            "cell_type": "code",
            "source": [
                "Invoke-Sqlcmd -ServerInstance -Username  -Password  -InputFile ./sql-server-samples/samples/databases/adventure-works/oltp-install-script/instawdb.sql\n",
                ""
            ],
            "metadata": {
                "azdata_cell_guid": "202ae301-b763-4892-a5d8-b6a9ab38599c"
            },
            "outputs": [],
            "execution_count": null
        },
        {
            "cell_type": "code",
            "source": [
                "<#\n",
                "$RDS_HOST = \n",
                "$RDS_USERNAME=\n",
                "$RDS_PASSWORD=\n",
                "$RDS_HOSTNAME=\n",
                "\n",
                "Invoke-Sqlcmd -ServerInstance \"test.database.windows.net\" -Database \"test\" -Username \"user\" -Password \"password\" -Query @\"\n",
                "SELECT SCHEMA_NAME(schema_id) AS schema_name  \n",
                "    ,name AS table_name   \n",
                "FROM sys.tables\n",
                "WHERE OBJECTPROPERTY(object_id,'TableHasPrimaryKey') = 0  \n",
                "ORDER BY schema_name, table_name;  \n",
                "GO\n",
                "\"@\n",
                "#>"
            ],
            "metadata": {
                "azdata_cell_guid": "da46bf8e-5dc9-4e44-a418-d6510c1ca941"
            },
            "outputs": [
                {
                    "output_type": "stream",
                    "name": "stdout",
                    "text": "\u001b[91mInvoke-Sqlcmd: \n\u001b[96mLine |\n\u001b[96m   2 | \u001b[0m \u001b[96mInvoke-Sqlcmd -Query @\"\u001b[0m\n\u001b[96m     | \u001b[91m ~~~~~~~~~~~~~~~~~~~~~~~\n\u001b[91m\u001b[96m     | \u001b[91mA network-related or instance-specific error occurred while establishing a connection to SQL Server. The server was not found or was not accessible. Verify that the instance name is correct and that SQL Server is configured to allow remote connections. (provider: TCP Provider, error: 40 - Could not open a connection to SQL Server)\u001b[0m\n"
                },
                {
                    "output_type": "stream",
                    "name": "stdout",
                    "text": "\u001b[91mInvoke-Sqlcmd: \n\u001b[96mLine |\n\u001b[96m   2 | \u001b[0m \u001b[96mInvoke-Sqlcmd -Query @\"\u001b[0m\n\u001b[96m     | \u001b[91m ~~~~~~~~~~~~~~~~~~~~~~~\n\u001b[91m\u001b[96m     | \u001b[91mIncorrect syntax was encountered while parsing ''.\n\u001b[0m\n"
                }
            ],
            "execution_count": 7
        },
        {
            "cell_type": "code",
            "source": [
                "!pip install pymssql"
            ],
            "metadata": {
                "azdata_cell_guid": "c162be39-5e17-41ff-bd33-8840c42fe8db"
            },
            "outputs": [
                {
                    "output_type": "stream",
                    "name": "stdout",
                    "text": "Requirement already satisfied: pymssql in /Users/katsutoshi/azuredatastudio-python/0.0.1/lib/python3.6/site-packages (2.1.5)\r\n"
                },
                {
                    "output_type": "stream",
                    "name": "stdout",
                    "text": "\u001b[33mWARNING: You are using pip version 20.0.2; however, version 20.2.4 is available.\r\nYou should consider upgrading via the '/Users/katsutoshi/azuredatastudio-python/0.0.1/bin/python3.6 -m pip install --upgrade pip' command.\u001b[0m\r\n"
                }
            ],
            "execution_count": 1
        }
    ]
}